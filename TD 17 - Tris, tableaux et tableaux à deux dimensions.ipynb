{
 "cells": [
  {
   "cell_type": "code",
   "execution_count": 3,
   "metadata": {
    "collapsed": false
   },
   "outputs": [
    {
     "name": "stdout",
     "output_type": "stream",
     "text": [
      "[[ 0.  0.  0.]\n",
      " [ 0.  0.  0.]\n",
      " [ 0.  0.  0.]\n",
      " [ 0.  0.  0.]\n",
      " [ 0.  0.  0.]\n",
      " [ 0.  0.  0.]\n",
      " [ 0.  0.  0.]\n",
      " [ 0.  0.  0.]\n",
      " [ 0.  0.  0.]\n",
      " [ 0.  0.  0.]]\n",
      "10\n",
      "3\n",
      "[[ 0.91692842  0.58516377  0.22964026  0.54044599  0.80764127  0.06610778\n",
      "   0.06486364  0.90954586  0.44548449  0.07380947]\n",
      " [ 0.30613856  0.50340837  0.37400112  0.92147949  0.37719857  0.96097913\n",
      "   0.28528696  0.05627136  0.47574077  0.36119593]\n",
      " [ 0.69965782  0.57931404  0.16693967  0.56188255  0.64703381  0.13584426\n",
      "   0.0380564   0.52561116  0.11190063  0.33017561]\n",
      " [ 0.68375042  0.35899942  0.35237233  0.79909728  0.31102976  0.95492091\n",
      "   0.10357009  0.31063965  0.05509086  0.73118992]\n",
      " [ 0.20273559  0.46938514  0.6524663   0.12602015  0.3966314   0.40308595\n",
      "   0.05454863  0.5165485   0.1707513   0.20036436]\n",
      " [ 0.51703247  0.67865932  0.07424467  0.12273749  0.74548035  0.58479829\n",
      "   0.33970538  0.20716206  0.0408255   0.22690684]\n",
      " [ 0.86947402  0.00143934  0.39684592  0.23640435  0.19193678  0.42939505\n",
      "   0.15265379  0.58346127  0.42725663  0.18658248]\n",
      " [ 0.46613644  0.74861265  0.27496483  0.10154244  0.1592777   0.98580034\n",
      "   0.81151049  0.13680906  0.25412997  0.67572626]\n",
      " [ 0.35877165  0.98112889  0.09542167  0.2076888   0.71670336  0.47439733\n",
      "   0.92709159  0.94233396  0.2693193   0.60524667]\n",
      " [ 0.64204346  0.17906776  0.10426109  0.250796    0.86150958  0.87082519\n",
      "   0.11785204  0.92655402  0.82277044  0.44030453]]\n",
      "[[5 1 9]\n",
      " [9 5 7]\n",
      " [0 3 0]\n",
      " [8 4 2]\n",
      " [4 4 7]\n",
      " [1 5 6]\n",
      " [4 7 8]\n",
      " [5 9 0]\n",
      " [8 1 5]\n",
      " [2 4 7]]\n"
     ]
    }
   ],
   "source": [
    "import numpy as np\n",
    "\n",
    "# Rappels sur les tableaux :\n",
    "# Création d'un tableau (rempli de 0) à deux dimensions : 10 et 3\n",
    "tableau2N = np.zeros([10,3])\n",
    "\n",
    "# Affichage du tableau\n",
    "print(tableau2N)\n",
    "\n",
    "# Affichage de la première dimension du tableau (10)\n",
    "print(len(tableau2N))\n",
    "\n",
    "# Affichage de la deuxième dimension du tableau (3)\n",
    "print(len(tableau2N[0]))\n",
    "\n",
    "# Création d'un tableau de nombres aléatoires, taille du tableau : 10x10\n",
    "tableauRand = np.random.rand(10,10)\n",
    "print(tableauRand)\n",
    "\n",
    "# Création d'un tableau d'entiers aléatoires entre 0 et 10 (premier paramètre)\n",
    "# taille du tableau : 10x3 \n",
    "tableauRand2 = np.random.randint(10, size=(10,3))\n",
    "print(tableauRand2)\n",
    "\n"
   ]
  },
  {
   "cell_type": "code",
   "execution_count": 4,
   "metadata": {
    "collapsed": false
   },
   "outputs": [
    {
     "name": "stdout",
     "output_type": "stream",
     "text": [
      "[[]]\n"
     ]
    }
   ],
   "source": [
    "#Pour les curieux qui demandent comment on fait une liste de listes : \n",
    "liste2N = []\n",
    "liste = []\n",
    "liste2N.append(liste)\n",
    "print(liste2N)"
   ]
  },
  {
   "cell_type": "code",
   "execution_count": 5,
   "metadata": {
    "collapsed": false
   },
   "outputs": [
    {
     "name": "stdout",
     "output_type": "stream",
     "text": [
      "[[  0.   5.   0.]\n",
      " [  1.   5.   5.]\n",
      " [  2.   5.  10.]\n",
      " [  3.   5.  15.]\n",
      " [  4.   5.  20.]\n",
      " [  5.   5.  25.]\n",
      " [  6.   5.  30.]\n",
      " [  7.   5.  35.]\n",
      " [  8.   5.  40.]\n",
      " [  9.   5.  45.]]\n"
     ]
    }
   ],
   "source": [
    "# Écrire l'algo de multiplication mais stocker les\n",
    "# opérandes et le résultat dans un tableau\n",
    "def multiplication(mult , tab):\n",
    "    for i in range (len(tab)):\n",
    "        tab[i][0]=i\n",
    "        tab[i][1]=mult\n",
    "        tab[i][2]=i*mult\n",
    "tab=np.zeros([10,3])\n",
    "multiplication(5,tab)\n",
    "print(tab)\n",
    "    "
   ]
  },
  {
   "cell_type": "code",
   "execution_count": 6,
   "metadata": {
    "collapsed": false
   },
   "outputs": [
    {
     "name": "stdout",
     "output_type": "stream",
     "text": [
      "[[1 7 3]\n",
      " [8 4 5]\n",
      " [6 3 1]]\n"
     ]
    }
   ],
   "source": [
    "# Exercice : soit un tableau à deux dimensions.\n",
    "# Votre travail : triez d'abord chaque ligne par ordre croissant.\n",
    "# Ensuite, triez les lignes (sans séparer les élémens) par ordre décroissant (de gauche à droite)\n",
    "# Voici vos données d'entrées \n",
    "\n",
    "listeAtrier = [[1, 7, 3], [8, 4, 5], [6, 3, 1]]\n",
    "tabAtrier = np.array(listeAtrier)\n",
    "print(tabAtrier)"
   ]
  },
  {
   "cell_type": "code",
   "execution_count": 8,
   "metadata": {
    "collapsed": false
   },
   "outputs": [
    {
     "name": "stdout",
     "output_type": "stream",
     "text": [
      "[[1 7 3]\n",
      " [8 4 5]\n",
      " [6 3 1]]\n",
      "[[1 3 7]\n",
      " [4 5 8]\n",
      " [1 3 6]]\n"
     ]
    }
   ],
   "source": [
    "#Début de correction. Pour l'instant, triligne fonctionne \n",
    "def triligne (tab,a):\n",
    "    for i in range (1, len(tab)):\n",
    "        j=i\n",
    "        while tab[a][j]<tab[a][j-1] and j>0:\n",
    "            tab[a][j],tab[a][j-1]=tab[a][j-1],tab[a][j]\n",
    "            j=j-1\n",
    "\n",
    "def tritab (tab):\n",
    "    for i in range (len(tab)):\n",
    "        triligne(tab,i)\n",
    "\n",
    "print(tabAtrier)\n",
    "tritab(tabAtrier)\n",
    "print(tabAtrier)"
   ]
  },
  {
   "cell_type": "markdown",
   "metadata": {
    "collapsed": true
   },
   "source": [
    "Exercice à faire par vous même : terminez l'exercice précédent en triant les lignes entre elles comme demandé dans l'énoncé. "
   ]
  }
 ],
 "metadata": {
  "kernelspec": {
   "display_name": "Python 3",
   "language": "python",
   "name": "python3"
  },
  "language_info": {
   "codemirror_mode": {
    "name": "ipython",
    "version": 3
   },
   "file_extension": ".py",
   "mimetype": "text/x-python",
   "name": "python",
   "nbconvert_exporter": "python",
   "pygments_lexer": "ipython3",
   "version": "3.5.2"
  }
 },
 "nbformat": 4,
 "nbformat_minor": 1
}
