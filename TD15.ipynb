{
 "cells": [
  {
   "cell_type": "markdown",
   "metadata": {},
   "source": [
    "Nous continuons les tris. Vous devez au moins savoir implémenter :\n",
    "  * Le tri sélection\n",
    "  * Le tri insertion\n",
    "  * Le tri bulle\n",
    "  \n",
    "Nous ferons ensuite des exercices sur des tableaux triés. "
   ]
  },
  {
   "cell_type": "code",
   "execution_count": 1,
   "metadata": {
    "collapsed": true
   },
   "outputs": [],
   "source": [
    "# Rappel : nous avons déjà écrit décalage à droite.\n",
    "# Est-il convenable pour ce que nous voulons faire ici ? \n",
    "def decalageADroite(tab):\n",
    "    i = len(tab)-1\n",
    "    temp = tab[i]\n",
    "    while i > 0:\n",
    "        tab[i] = tab[i-1]\n",
    "        i=i-1\n",
    "    tab[0] = temp"
   ]
  },
  {
   "cell_type": "code",
   "execution_count": 9,
   "metadata": {
    "collapsed": false
   },
   "outputs": [
    {
     "name": "stdout",
     "output_type": "stream",
     "text": [
      "Original [3 4 1 5 2 8 6]\n",
      "Décalage 3, 5 [3 4 1 2 5 8 6]\n",
      "Décalage 1, 6 [3 8 4 1 2 5 6]\n",
      "Décalage 0, 0 [6 8 4 1 2 5 6]\n",
      "Décalage 5, 2 [6 8 4 1 2 8 6]\n"
     ]
    },
    {
     "ename": "IndexError",
     "evalue": "index 8 is out of bounds for axis 0 with size 7",
     "output_type": "error",
     "traceback": [
      "\u001b[0;31m---------------------------------------------------------------------------\u001b[0m",
      "\u001b[0;31mIndexError\u001b[0m                                Traceback (most recent call last)",
      "\u001b[0;32m<ipython-input-9-78e4e4ba3eb1>\u001b[0m in \u001b[0;36m<module>\u001b[0;34m()\u001b[0m\n\u001b[1;32m     19\u001b[0m \u001b[0mdecalageADroitebis\u001b[0m\u001b[0;34m(\u001b[0m\u001b[0mt1\u001b[0m\u001b[0;34m,\u001b[0m\u001b[0;36m5\u001b[0m\u001b[0;34m,\u001b[0m\u001b[0;36m2\u001b[0m\u001b[0;34m)\u001b[0m\u001b[0;34m\u001b[0m\u001b[0m\n\u001b[1;32m     20\u001b[0m \u001b[0mprint\u001b[0m\u001b[0;34m(\u001b[0m\u001b[0;34m\"Décalage 5, 2\"\u001b[0m\u001b[0;34m,\u001b[0m \u001b[0mt1\u001b[0m\u001b[0;34m)\u001b[0m\u001b[0;34m\u001b[0m\u001b[0m\n\u001b[0;32m---> 21\u001b[0;31m \u001b[0mdecalageADroitebis\u001b[0m\u001b[0;34m(\u001b[0m\u001b[0mt1\u001b[0m\u001b[0;34m,\u001b[0m\u001b[0;36m0\u001b[0m\u001b[0;34m,\u001b[0m\u001b[0;36m9\u001b[0m\u001b[0;34m)\u001b[0m\u001b[0;34m\u001b[0m\u001b[0m\n\u001b[0m\u001b[1;32m     22\u001b[0m \u001b[0mprint\u001b[0m\u001b[0;34m(\u001b[0m\u001b[0;34m\"Décalage out of bounds\"\u001b[0m\u001b[0;34m,\u001b[0m \u001b[0mt1\u001b[0m\u001b[0;34m)\u001b[0m\u001b[0;34m\u001b[0m\u001b[0m\n\u001b[1;32m     23\u001b[0m \u001b[0;34m\u001b[0m\u001b[0m\n",
      "\u001b[0;32m<ipython-input-9-78e4e4ba3eb1>\u001b[0m in \u001b[0;36mdecalageADroitebis\u001b[0;34m(tab, lim1, lim2)\u001b[0m\n\u001b[1;32m      3\u001b[0m \u001b[0;32mdef\u001b[0m \u001b[0mdecalageADroitebis\u001b[0m\u001b[0;34m(\u001b[0m\u001b[0mtab\u001b[0m\u001b[0;34m,\u001b[0m\u001b[0mlim1\u001b[0m\u001b[0;34m,\u001b[0m\u001b[0mlim2\u001b[0m\u001b[0;34m)\u001b[0m\u001b[0;34m:\u001b[0m\u001b[0;34m\u001b[0m\u001b[0m\n\u001b[1;32m      4\u001b[0m     \u001b[0mi\u001b[0m\u001b[0;34m=\u001b[0m \u001b[0mlim2\u001b[0m\u001b[0;34m-\u001b[0m\u001b[0;36m1\u001b[0m\u001b[0;34m\u001b[0m\u001b[0m\n\u001b[0;32m----> 5\u001b[0;31m     \u001b[0mtemp\u001b[0m \u001b[0;34m=\u001b[0m \u001b[0mtab\u001b[0m\u001b[0;34m[\u001b[0m\u001b[0mlim2\u001b[0m\u001b[0;34m-\u001b[0m\u001b[0;36m1\u001b[0m\u001b[0;34m]\u001b[0m\u001b[0;34m\u001b[0m\u001b[0m\n\u001b[0m\u001b[1;32m      6\u001b[0m     \u001b[0;32mwhile\u001b[0m \u001b[0mi\u001b[0m \u001b[0;34m>\u001b[0m \u001b[0mlim1\u001b[0m\u001b[0;34m:\u001b[0m\u001b[0;34m\u001b[0m\u001b[0m\n\u001b[1;32m      7\u001b[0m         \u001b[0mtab\u001b[0m\u001b[0;34m[\u001b[0m\u001b[0mi\u001b[0m\u001b[0;34m]\u001b[0m \u001b[0;34m=\u001b[0m \u001b[0mtab\u001b[0m\u001b[0;34m[\u001b[0m\u001b[0mi\u001b[0m\u001b[0;34m-\u001b[0m\u001b[0;36m1\u001b[0m\u001b[0;34m]\u001b[0m\u001b[0;34m\u001b[0m\u001b[0m\n",
      "\u001b[0;31mIndexError\u001b[0m: index 8 is out of bounds for axis 0 with size 7"
     ]
    }
   ],
   "source": [
    "import numpy as np\n",
    "\n",
    "def decADroite(tab,lim1,lim2):\n",
    "    i= lim2-1\n",
    "    temp = tab[lim2-1]\n",
    "    while i > lim1:\n",
    "        tab[i] = tab[i-1]\n",
    "        i=i-1\n",
    "    tab[lim1] = temp\n",
    "    \n",
    "t1 = np.array([3,4,1,5,2,8,6])\n",
    "print(\"Original\", t1)\n",
    "decalageADroitebis(t1,3,5)\n",
    "print(\"Décalage 3, 5\", t1)\n",
    "decalageADroitebis(t1,1,6)\n",
    "print(\"Décalage 1, 6\", t1)\n",
    "decalageADroitebis(t1,0,0)\n",
    "print(\"Décalage 0, 0\", t1)\n",
    "decalageADroitebis(t1,5,2)\n",
    "print(\"Décalage 5, 2\", t1)\n",
    "decalageADroitebis(t1,0,9)\n",
    "print(\"Décalage out of bounds\", t1)\n",
    "\n",
    "# observez bien le comportement incohérent (par rapport à ce que l'on attend de la fct)\n",
    "# de décalage 0, 0 et de décalage 5, 2... "
   ]
  },
  {
   "cell_type": "code",
   "execution_count": 20,
   "metadata": {
    "collapsed": false
   },
   "outputs": [
    {
     "name": "stdout",
     "output_type": "stream",
     "text": [
      "(1, 2)\n",
      "(2, 4)\n",
      "(1, 7)\n"
     ]
    }
   ],
   "source": [
    "# Recherche du minimum dans un sous tableau\n",
    "def rechercheMin(tab, i, j):\n",
    "    '''\n",
    "    :entree-sortie tab: un tableau d'ints\n",
    "    :entrees i, j: les bornes de la recherche (i inclus, j exclus)\n",
    "    :sorties mini, indmini: entiers\n",
    "    :pre-cond : i < j, i < len(tab), j <= len(tab)\n",
    "    :post-cond: retourne le min de tab entre i inclus et j exclus, et indmini, \n",
    "                l'indice du minimum retourné \n",
    "    '''\n",
    "    mini = tab[i]\n",
    "    indmini = i \n",
    "    while i < j:\n",
    "        if tab[i]<mini:\n",
    "            mini = tab[i]\n",
    "            indmini = i\n",
    "        i = i + 1 \n",
    "    return mini, indmini\n",
    "\n",
    "t1 = np.array([3,4,1,5,2,8,6,1])\n",
    "print(rechercheMin(t1,2,7))\n",
    "print(rechercheMin(t1,3,5))\n",
    "print(rechercheMin(t1,3,8)) # Comment faire si le min est dans la dernière case ?\n"
   ]
  },
  {
   "cell_type": "code",
   "execution_count": null,
   "metadata": {
    "collapsed": true
   },
   "outputs": [],
   "source": [
    "def triInsertionRechercheMin(tab):\n",
    "    \n",
    "    i = 0\n",
    "    j = len(tab)\n",
    "    mini = rechercheMin(tab, i, j)\n",
    "    decADroite(tab, i, ??)\n",
    "# A finir pour la prochaine fois "
   ]
  },
  {
   "cell_type": "code",
   "execution_count": null,
   "metadata": {
    "collapsed": true
   },
   "outputs": [],
   "source": []
  }
 ],
 "metadata": {
  "kernelspec": {
   "display_name": "Python 3",
   "language": "python",
   "name": "python3"
  },
  "language_info": {
   "codemirror_mode": {
    "name": "ipython",
    "version": 3
   },
   "file_extension": ".py",
   "mimetype": "text/x-python",
   "name": "python",
   "nbconvert_exporter": "python",
   "pygments_lexer": "ipython3",
   "version": "3.5.2"
  }
 },
 "nbformat": 4,
 "nbformat_minor": 1
}
