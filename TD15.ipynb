{
 "cells": [
  {
   "cell_type": "markdown",
   "metadata": {},
   "source": [
    "Nous continuons les tris. Vous devez au moins savoir implémenter :\n",
    "  * Le tri sélection\n",
    "  * Le tri insertion\n",
    "  * Le tri bulle\n",
    "  \n",
    "Nous ferons ensuite des exercices sur des tableaux triés. "
   ]
  },
  {
   "cell_type": "code",
   "execution_count": 4,
   "metadata": {
    "collapsed": true
   },
   "outputs": [],
   "source": [
    "# Rappel : nous avons déjà écrit décalage à droite.\n",
    "# Est-il convenable pour ce que nous voulons faire ici ? \n",
    "def decalageADroite(tab):\n",
    "    i = len(tab)-1\n",
    "    temp = tab[i]\n",
    "    while i > 0:\n",
    "        tab[i] = tab[i-1]\n",
    "        i=i-1\n",
    "    tab[0] = temp"
   ]
  },
  {
   "cell_type": "code",
   "execution_count": 5,
   "metadata": {
    "collapsed": false
   },
   "outputs": [
    {
     "name": "stdout",
     "output_type": "stream",
     "text": [
      "Original [3 4 1 5 2 8 6]\n"
     ]
    },
    {
     "ename": "NameError",
     "evalue": "name 'decalageADroitebis' is not defined",
     "output_type": "error",
     "traceback": [
      "\u001b[0;31m---------------------------------------------------------------------------\u001b[0m",
      "\u001b[0;31mNameError\u001b[0m                                 Traceback (most recent call last)",
      "\u001b[0;32m<ipython-input-5-4d92cba2b678>\u001b[0m in \u001b[0;36m<module>\u001b[0;34m()\u001b[0m\n\u001b[1;32m     11\u001b[0m \u001b[0mt1\u001b[0m \u001b[0;34m=\u001b[0m \u001b[0mnp\u001b[0m\u001b[0;34m.\u001b[0m\u001b[0marray\u001b[0m\u001b[0;34m(\u001b[0m\u001b[0;34m[\u001b[0m\u001b[0;36m3\u001b[0m\u001b[0;34m,\u001b[0m\u001b[0;36m4\u001b[0m\u001b[0;34m,\u001b[0m\u001b[0;36m1\u001b[0m\u001b[0;34m,\u001b[0m\u001b[0;36m5\u001b[0m\u001b[0;34m,\u001b[0m\u001b[0;36m2\u001b[0m\u001b[0;34m,\u001b[0m\u001b[0;36m8\u001b[0m\u001b[0;34m,\u001b[0m\u001b[0;36m6\u001b[0m\u001b[0;34m]\u001b[0m\u001b[0;34m)\u001b[0m\u001b[0;34m\u001b[0m\u001b[0m\n\u001b[1;32m     12\u001b[0m \u001b[0mprint\u001b[0m\u001b[0;34m(\u001b[0m\u001b[0;34m\"Original\"\u001b[0m\u001b[0;34m,\u001b[0m \u001b[0mt1\u001b[0m\u001b[0;34m)\u001b[0m\u001b[0;34m\u001b[0m\u001b[0m\n\u001b[0;32m---> 13\u001b[0;31m \u001b[0mdecalageADroitebis\u001b[0m\u001b[0;34m(\u001b[0m\u001b[0mt1\u001b[0m\u001b[0;34m,\u001b[0m\u001b[0;36m3\u001b[0m\u001b[0;34m,\u001b[0m\u001b[0;36m5\u001b[0m\u001b[0;34m)\u001b[0m\u001b[0;34m\u001b[0m\u001b[0m\n\u001b[0m\u001b[1;32m     14\u001b[0m \u001b[0mprint\u001b[0m\u001b[0;34m(\u001b[0m\u001b[0;34m\"Décalage 3, 5\"\u001b[0m\u001b[0;34m,\u001b[0m \u001b[0mt1\u001b[0m\u001b[0;34m)\u001b[0m\u001b[0;34m\u001b[0m\u001b[0m\n\u001b[1;32m     15\u001b[0m \u001b[0mdecalageADroitebis\u001b[0m\u001b[0;34m(\u001b[0m\u001b[0mt1\u001b[0m\u001b[0;34m,\u001b[0m\u001b[0;36m1\u001b[0m\u001b[0;34m,\u001b[0m\u001b[0;36m6\u001b[0m\u001b[0;34m)\u001b[0m\u001b[0;34m\u001b[0m\u001b[0m\n",
      "\u001b[0;31mNameError\u001b[0m: name 'decalageADroitebis' is not defined"
     ]
    }
   ],
   "source": [
    "import numpy as np\n",
    "\n",
    "def decADroite(tab,lim1,lim2):\n",
    "    i= lim2-1\n",
    "    temp = tab[lim2-1]\n",
    "    while i > lim1:\n",
    "        tab[i] = tab[i-1]\n",
    "        i=i-1\n",
    "    tab[lim1] = temp\n",
    "    \n",
    "t1 = np.array([3,4,1,5,2,8,6])\n",
    "print(\"Original\", t1)\n",
    "decalageADroitebis(t1,3,5)\n",
    "print(\"Décalage 3, 5\", t1)\n",
    "decalageADroitebis(t1,1,6)\n",
    "print(\"Décalage 1, 6\", t1)\n",
    "decalageADroitebis(t1,0,0)\n",
    "print(\"Décalage 0, 0\", t1)\n",
    "decalageADroitebis(t1,5,2)\n",
    "print(\"Décalage 5, 2\", t1)\n",
    "decalageADroitebis(t1,0,9)\n",
    "print(\"Décalage out of bounds\", t1)\n",
    "\n",
    "# observez bien le comportement incohérent (par rapport à ce que l'on attend de la fct)\n",
    "# de décalage 0, 0 et de décalage 5, 2... "
   ]
  },
  {
   "cell_type": "code",
   "execution_count": 15,
   "metadata": {
    "collapsed": false
   },
   "outputs": [
    {
     "name": "stdout",
     "output_type": "stream",
     "text": [
      "(1, 2)\n",
      "(2, 4)\n",
      "(1, 7)\n"
     ]
    }
   ],
   "source": [
    "# Recherche du minimum dans un sous tableau\n",
    "def rechercheMin(tab, i, j):\n",
    "    '''\n",
    "    :entree-sortie tab: un tableau d'ints\n",
    "    :entrees i, j: les bornes de la recherche (i inclus, j exclus)\n",
    "    :sorties mini, indmini: entiers\n",
    "    :pre-cond : i < j, i < len(tab), j <= len(tab)\n",
    "    :post-cond: retourne le min de tab entre i inclus et j exclus, et indmini, \n",
    "                l'indice du minimum retourné \n",
    "    '''\n",
    "    mini = tab[i]\n",
    "    indmini = i \n",
    "    while i < j:\n",
    "        if tab[i]<mini:\n",
    "            mini = tab[i]\n",
    "            indmini = i\n",
    "        i = i + 1 \n",
    "    return mini, indmini\n",
    "\n",
    "t1 = np.array([3,4,1,5,2,8,6,1])\n",
    "print(rechercheMin(t1,2,7))\n",
    "print(rechercheMin(t1,3,5))\n",
    "print(rechercheMin(t1,3,8)) # Comment faire si le min est dans la dernière case ?\n"
   ]
  },
  {
   "cell_type": "code",
   "execution_count": 14,
   "metadata": {
    "collapsed": false
   },
   "outputs": [
    {
     "name": "stdout",
     "output_type": "stream",
     "text": [
      "[1 1 2 3 4 5 6 8]\n"
     ]
    }
   ],
   "source": [
    "def triInsertionRechercheMin(tab):\n",
    "    j = len(tab)\n",
    "    for i in range (j):\n",
    "        mini,indice = rechercheMin(tab, i, j)\n",
    "        decADroite(tab, i,indice+1)\n",
    "        \n",
    "triInsertionRechercheMin(t1)\n",
    "print(t1)\n",
    "# A finir pour la prochaine fois "
   ]
  },
  {
   "cell_type": "code",
   "execution_count": 32,
   "metadata": {
    "collapsed": false
   },
   "outputs": [
    {
     "name": "stdout",
     "output_type": "stream",
     "text": [
      "[1 1 2 3 4 5 6 8]\n"
     ]
    }
   ],
   "source": [
    "#Tri par insertion\n",
    "t1 = np.array([3,4,1,5,2,8,6,1])\n",
    "\n",
    "def triInsertion(tab):\n",
    "    for i in range(len(tab)):\n",
    "        j=i\n",
    "        while j>0 and tab[j]<tab[j-1]:\n",
    "                save=tab[j-1]\n",
    "                tab[j-1]=tab[j]\n",
    "                tab[j]=save\n",
    "                j=j-1\n",
    "triInsertion(t1)\n",
    "print(t1)"
   ]
  },
  {
   "cell_type": "code",
   "execution_count": 33,
   "metadata": {
    "collapsed": false
   },
   "outputs": [
    {
     "name": "stdout",
     "output_type": "stream",
     "text": [
      "[1 1 2 3 4 5 6 8]\n"
     ]
    }
   ],
   "source": [
    "#Tri par Bulle\n",
    "\n",
    "def triBulle(tab):\n",
    "    j=1\n",
    "    for k in range(len(tab)-1):\n",
    "        \n",
    "        for i in range(len(tab)-j):\n",
    "            \n",
    "            if tab[i]>tab[i+1]:\n",
    "                save = tab[i]\n",
    "                tab[i] = tab[i+1]\n",
    "                tab[i+1] = save\n",
    "                \n",
    "        j=j+1\n",
    "\n",
    "t1 = np.array([3,4,1,5,2,8,6,1])\n",
    "t2 = np.array([1,2,3,4,5,8,6,1])\n",
    "triBulle(t1)\n",
    "triBulle(t2)\n",
    "print(t1)\n",
    "print(t2)"
   ]
  },
  {
   "cell_type": "markdown",
   "metadata": {},
   "source": [
    "**Exercice pour la prochaine fois** : optimiser tri-bulle pour ne plus boucler quand le tableau est trié "
   ]
  },
  {
   "cell_type": "code",
   "execution_count": 34,
   "metadata": {
    "collapsed": false
   },
   "outputs": [
    {
     "name": "stdout",
     "output_type": "stream",
     "text": [
      "[  6.92197797e-310   1.87410957e-316   6.92193959e-310   6.92193959e-310\n",
      "   6.92193959e-310   6.92193959e-310]\n"
     ]
    }
   ],
   "source": [
    "# Tri par indices :\n",
    "# t1 = np.array([3,1,5,4,1,2])\n",
    "# Résultat attentu : indices = [1 4 5 0 3 2]\n",
    "def triParIndices(tab):\n",
    "    indices = np.empty(len(tab))\n",
    "    print(indices)\n",
    "    \n",
    "t1 = np.array([3,1,5,4,1,2])   \n",
    "triParIndices(t1)"
   ]
  },
  {
   "cell_type": "code",
   "execution_count": null,
   "metadata": {
    "collapsed": true
   },
   "outputs": [],
   "source": []
  }
 ],
 "metadata": {
  "kernelspec": {
   "display_name": "Python 3",
   "language": "python",
   "name": "python3"
  },
  "language_info": {
   "codemirror_mode": {
    "name": "ipython",
    "version": 3
   },
   "file_extension": ".py",
   "mimetype": "text/x-python",
   "name": "python",
   "nbconvert_exporter": "python",
   "pygments_lexer": "ipython3",
   "version": "3.5.2"
  }
 },
 "nbformat": 4,
 "nbformat_minor": 1
}
