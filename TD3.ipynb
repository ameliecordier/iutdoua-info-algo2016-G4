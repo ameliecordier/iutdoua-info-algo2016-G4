{
 "cells": [
  {
   "cell_type": "markdown",
   "metadata": {},
   "source": [
    "**Question 1.** Retourner le nombre de chiffres dans un nombre écrit en base 10. "
   ]
  },
  {
   "cell_type": "code",
   "execution_count": 4,
   "metadata": {
    "collapsed": false
   },
   "outputs": [
    {
     "name": "stdout",
     "output_type": "stream",
     "text": [
      "2\n",
      "2\n",
      "1\n",
      "1\n",
      "2\n"
     ]
    }
   ],
   "source": [
    "def nbre_chiffre (c) :\n",
    "    \"\"\"\n",
    "    entrée c : int\n",
    "    sortie n : int\n",
    "    pré-condition : c > 0 est un nombre en base 10\n",
    "    post-condition : n est le nombre de chiffres nécessaires à l'écriture de c\n",
    "    \"\"\"\n",
    "    n=1\n",
    "    while c>=10 :\n",
    "        c=c/10\n",
    "        n=n+1\n",
    "    return(n)\n",
    "\n",
    "print(nbre_chiffre(42))\n",
    "print(nbre_chiffre(10))\n",
    "print(nbre_chiffre(1))\n",
    "print(nbre_chiffre(9))\n",
    "print(nbre_chiffre(11))\n"
   ]
  },
  {
   "cell_type": "markdown",
   "metadata": {},
   "source": [
    "**Question 2.** Écrire un algorithme qui retourne le nombre d'occurences d'un chiffre dans un nombre en base 10."
   ]
  },
  {
   "cell_type": "code",
   "execution_count": 8,
   "metadata": {
    "collapsed": false
   },
   "outputs": [
    {
     "name": "stdout",
     "output_type": "stream",
     "text": [
      "1\n",
      "3\n",
      "1\n",
      "4\n"
     ]
    }
   ],
   "source": [
    "def occurences (nb,ch):\n",
    "    \"\"\"\n",
    "    :entrée : nb, ch : int\n",
    "    :sortie : s : int\n",
    "    :pré-cond : nb > 0, ch <10\n",
    "    :post-cond :s contient nombre d'occurences de ch dans le nombre donné\n",
    "    \"\"\"\n",
    "    s=0\n",
    "    while nb>=1:\n",
    "        r = nb%10\n",
    "        if r==ch:\n",
    "            s = s+1\n",
    "        nb = nb//10\n",
    "    return(s)\n",
    "\n",
    "print(occurences (1234,4))\n",
    "print(occurences (1444,4))\n",
    "print(occurences (7,7))\n",
    "print(occurences (1111,1))"
   ]
  },
  {
   "cell_type": "markdown",
   "metadata": {},
   "source": [
    "**Question 3.** Écrire l'algorithme qui retourne le nombre de chiffres pairs et impairs dans un nombre exprimé en base 10. "
   ]
  },
  {
   "cell_type": "code",
   "execution_count": 11,
   "metadata": {
    "collapsed": false
   },
   "outputs": [
    {
     "name": "stdout",
     "output_type": "stream",
     "text": [
      "(2, 2)\n",
      "(3, 1)\n",
      "(0, 4)\n",
      "(1, 0)\n"
     ]
    }
   ],
   "source": [
    "def nb_pair_impair(nb):\n",
    "    \"\"\"\n",
    "    :entrée: nb de type int\n",
    "    :sortie: s de type int\n",
    "    :précond: nb>0 en base 10\n",
    "    :postcond: s représente le nombre de chiffres pairs dans nb\n",
    "    \"\"\"\n",
    "    pair=0\n",
    "    impair=0\n",
    "    while nb>=1:\n",
    "        if (nb%2)==0:\n",
    "            pair=pair+1\n",
    "        else :\n",
    "            impair = impair +1\n",
    "        nb=nb//10\n",
    "    return (pair, impair)\n",
    "\n",
    "print(nb_pair_impair(1234))\n",
    "print(nb_pair_impair(1002))\n",
    "print(nb_pair_impair(3579))\n",
    "print(nb_pair_impair(4))\n"
   ]
  },
  {
   "cell_type": "markdown",
   "metadata": {},
   "source": [
    "**Question 4.** Écrire l'algorithme qui retourne le chiffre situé au rang i dans un nombre écrit en base 10. "
   ]
  },
  {
   "cell_type": "code",
   "execution_count": 12,
   "metadata": {
    "collapsed": false
   },
   "outputs": [
    {
     "name": "stdout",
     "output_type": "stream",
     "text": [
      "2\n"
     ]
    }
   ],
   "source": [
    "def rang(nb, rg):\n",
    "    \"\"\"\n",
    "    :entrée: nb et rg sont des entiers\n",
    "    :sortie: ch est un entier\n",
    "    :pré-cond: nb>0, rg strictement inférieur au nombre de chiffres dans nb\n",
    "    :post-cond: ch est le chiffre au rang rg de nb\n",
    "    \"\"\"\n",
    "    nb = nb//(10**rg)\n",
    "    ch=nb%10\n",
    "    return(ch)\n",
    "\n",
    "print(rang(1277,2))"
   ]
  },
  {
   "cell_type": "code",
   "execution_count": 19,
   "metadata": {
    "collapsed": false
   },
   "outputs": [
    {
     "name": "stdout",
     "output_type": "stream",
     "text": [
      "on va bientôt \\ sortir d'là\n"
     ]
    }
   ],
   "source": [
    "chaine = \"on va bientôt \\\\ sortir d\\'là\"\n",
    "print(chaine)"
   ]
  },
  {
   "cell_type": "code",
   "execution_count": 22,
   "metadata": {
    "collapsed": false
   },
   "outputs": [
    {
     "name": "stdout",
     "output_type": "stream",
     "text": [
      "tadatadatada\n"
     ]
    }
   ],
   "source": [
    "chaine = \"tada\"\n",
    "print(3*chaine)"
   ]
  },
  {
   "cell_type": "code",
   "execution_count": 25,
   "metadata": {
    "collapsed": false
   },
   "outputs": [
    {
     "name": "stdout",
     "output_type": "stream",
     "text": [
      "e\n",
      "chouette\n"
     ]
    }
   ],
   "source": [
    "chaine = \"une chaine\"\n",
    "print(chaine[2])\n",
    "\n",
    "if chaine[2] == \"e\":\n",
    "    print(\"chouette\")\n",
    "else:\n",
    "    print(\"pas chouette\")"
   ]
  },
  {
   "cell_type": "code",
   "execution_count": 27,
   "metadata": {
    "collapsed": false
   },
   "outputs": [
    {
     "name": "stdout",
     "output_type": "stream",
     "text": [
      "p\n",
      "a\n",
      "s\n",
      " \n",
      "c\n",
      "h\n",
      "a\n",
      "t\n",
      "8\n"
     ]
    }
   ],
   "source": [
    "chaine = \"pas chat\"\n",
    "cpt = 0\n",
    "for charac in chaine:\n",
    "    print(charac)\n",
    "    cpt = cpt + 1\n",
    "print(cpt)"
   ]
  },
  {
   "cell_type": "code",
   "execution_count": 28,
   "metadata": {
    "collapsed": false
   },
   "outputs": [
    {
     "name": "stdout",
     "output_type": "stream",
     "text": [
      "20\n"
     ]
    }
   ],
   "source": [
    "chaine = \"on tient le bon bout\"\n",
    "print(len(chaine))"
   ]
  },
  {
   "cell_type": "markdown",
   "metadata": {},
   "source": [
    "**Question 5.** Écrire un algorithme qui retourne le nombre d'occurences d'un caractère dans une chaîne. Exemple : nb_occ(\"boulot\", \"o\") doit retourner 2. "
   ]
  },
  {
   "cell_type": "code",
   "execution_count": 29,
   "metadata": {
    "collapsed": false
   },
   "outputs": [
    {
     "name": "stdout",
     "output_type": "stream",
     "text": [
      "2\n"
     ]
    }
   ],
   "source": [
    "def nbrOc(mot,char):\n",
    "    i=0\n",
    "    nc=0\n",
    "    while i<=len(mot)-1 :\n",
    "        if mot[i] == char:\n",
    "            nc= nc + 1\n",
    "        i = i + 1\n",
    "    return (nc)\n",
    "\n",
    "print(nbrOc(\"boulot\",\"o\"))"
   ]
  },
  {
   "cell_type": "code",
   "execution_count": null,
   "metadata": {
    "collapsed": true
   },
   "outputs": [],
   "source": []
  }
 ],
 "metadata": {
  "kernelspec": {
   "display_name": "Python 3",
   "language": "python",
   "name": "python3"
  },
  "language_info": {
   "codemirror_mode": {
    "name": "ipython",
    "version": 3
   },
   "file_extension": ".py",
   "mimetype": "text/x-python",
   "name": "python",
   "nbconvert_exporter": "python",
   "pygments_lexer": "ipython3",
   "version": "3.5.2"
  }
 },
 "nbformat": 4,
 "nbformat_minor": 1
}
