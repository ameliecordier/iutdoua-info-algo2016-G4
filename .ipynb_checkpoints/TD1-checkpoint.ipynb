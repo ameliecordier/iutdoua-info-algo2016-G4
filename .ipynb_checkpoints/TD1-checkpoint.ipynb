{
 "cells": [
  {
   "cell_type": "markdown",
   "metadata": {},
   "source": [
    "**Question 1.** Écrire un algorithme qui fait la moyenne de deux nombres, par exemple 4 et 3. "
   ]
  },
  {
   "cell_type": "code",
   "execution_count": 5,
   "metadata": {
    "collapsed": false
   },
   "outputs": [
    {
     "name": "stdout",
     "output_type": "stream",
     "text": [
      "3.5\n"
     ]
    }
   ],
   "source": [
    "a=3\n",
    "b=4\n",
    "m=(a+b)/2\n",
    "print(m)"
   ]
  },
  {
   "cell_type": "markdown",
   "metadata": {},
   "source": [
    "Attention, ici on a juste écrit une suite d'instructions. "
   ]
  },
  {
   "cell_type": "markdown",
   "metadata": {},
   "source": [
    "**Question 2.** Proposer un algorithme qui calcule le diamètre, le périmètre et la surface d'un cercle dont on connaît le rayon. Indice : ci-dessous la notation de puissance. "
   ]
  },
  {
   "cell_type": "code",
   "execution_count": 7,
   "metadata": {
    "collapsed": false
   },
   "outputs": [
    {
     "name": "stdout",
     "output_type": "stream",
     "text": [
      "8\n"
     ]
    }
   ],
   "source": [
    "print(2**3)"
   ]
  },
  {
   "cell_type": "code",
   "execution_count": 12,
   "metadata": {
    "collapsed": false
   },
   "outputs": [
    {
     "name": "stdout",
     "output_type": "stream",
     "text": [
      "46 144.44 1661.0600000000002\n"
     ]
    }
   ],
   "source": [
    "def cercle(r):\n",
    "    \"\"\"\n",
    "    :entrée r: float\n",
    "    :sortie d: float\n",
    "    :sortie p: float\n",
    "    :sortie s: float\n",
    "    :pré-cond: r ≥ 0\n",
    "    :post-cond: d contient le diamètre d'un cercle de centre r,\n",
    "                p contient le périèmtre d'un cercle de centre r,\n",
    "                s contient la surface d'un cercle de centre r\n",
    "    \"\"\"\n",
    "    pi=3.14\n",
    "    d=r*2\n",
    "    p=pi*d\n",
    "    s=pi*r**2\n",
    "    print(d,p,s)\n",
    "\n",
    "# Appel de l'algorithme avec la valeur de r : 23\n",
    "cercle(23)"
   ]
  },
  {
   "cell_type": "markdown",
   "metadata": {},
   "source": [
    "**Question 3.** Écrire un algorithme qui affiche le plus petit de trois nombres entiers passés en paramètres. "
   ]
  },
  {
   "cell_type": "code",
   "execution_count": 22,
   "metadata": {
    "collapsed": false
   },
   "outputs": [
    {
     "name": "stdout",
     "output_type": "stream",
     "text": [
      "1\n"
     ]
    }
   ],
   "source": [
    "def plus_petit(a, b, c):\n",
    "    \"\"\"\n",
    "    :entree a: int\n",
    "    :entree b: int\n",
    "    :entree c: int\n",
    "    :sortie pp: int\n",
    "    :pré-cond: (aucune)\n",
    "    :post-cond: pp = le plus petit nombre de l'ensemble {a, b, c}\n",
    "    \"\"\"\n",
    "    pp=0\n",
    "    if a <=b:\n",
    "        if a<=c:\n",
    "            pp=a\n",
    "        else:\n",
    "            pp=c\n",
    "    else:\n",
    "        if b<=c:\n",
    "            pp=b\n",
    "        else:\n",
    "            pp=c\n",
    "    print(pp)\n",
    "\n",
    "plus_petit(3,2,1)\n",
    "\n",
    "\n"
   ]
  },
  {
   "cell_type": "code",
   "execution_count": 21,
   "metadata": {
    "collapsed": false
   },
   "outputs": [
    {
     "name": "stdout",
     "output_type": "stream",
     "text": [
      "1\n"
     ]
    }
   ],
   "source": [
    "def plus_petitbis(a, b, c):\n",
    "    \"\"\"\n",
    "    :entree a: int\n",
    "    :entree b: int\n",
    "    :entree c: int\n",
    "    :sortie pp: int\n",
    "    :pré-cond: (aucune)\n",
    "    :post-cond: pp = le plus petit nombre de l'ensemble {a, b, c}\n",
    "    \"\"\"\n",
    "\n",
    "    if a<b:\n",
    "        pp = a\n",
    "    else: \n",
    "        pp=b\n",
    "\n",
    "    if c<pp :\n",
    "        pp=c\n",
    "    print(pp)   \n",
    "    \n",
    "plus_petitbis(3,2,1)"
   ]
  },
  {
   "cell_type": "markdown",
   "metadata": {},
   "source": [
    "**Remarque importante :** les deux versions de la réponse sont valides au sens algorithmique. En revanche, la seconde solution est beaucoup plus facile à comprendre et à relire que la première. Il faut toujours privilégier les algorithmes simples et clairs, car ils sont plus faciles maintenir dans le temps. "
   ]
  },
  {
   "cell_type": "markdown",
   "metadata": {},
   "source": [
    "**Devoir pour le TD2 :** Lire les deux premières pages du cours. "
   ]
  },
  {
   "cell_type": "code",
   "execution_count": null,
   "metadata": {
    "collapsed": true
   },
   "outputs": [],
   "source": []
  }
 ],
 "metadata": {
  "kernelspec": {
   "display_name": "Python 3",
   "language": "python",
   "name": "python3"
  },
  "language_info": {
   "codemirror_mode": {
    "name": "ipython",
    "version": 3
   },
   "file_extension": ".py",
   "mimetype": "text/x-python",
   "name": "python",
   "nbconvert_exporter": "python",
   "pygments_lexer": "ipython3",
   "version": "3.5.2"
  }
 },
 "nbformat": 4,
 "nbformat_minor": 1
}
