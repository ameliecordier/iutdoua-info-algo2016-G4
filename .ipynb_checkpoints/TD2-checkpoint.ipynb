{
 "cells": [
  {
   "cell_type": "markdown",
   "metadata": {},
   "source": [
    "**Question 1.** Convertir une durée en secondes. "
   ]
  },
  {
   "cell_type": "code",
   "execution_count": 36,
   "metadata": {
    "collapsed": false
   },
   "outputs": [
    {
     "name": "stdout",
     "output_type": "stream",
     "text": [
      "1470\n",
      "101107\n"
     ]
    }
   ],
   "source": [
    "def duree_en_secondes(j, h, m, s):\n",
    "    \"\"\"\n",
    "    :entrée j: int\n",
    "    :entrée h: int\n",
    "    :entrée m: int\n",
    "    :entrée s: float\n",
    "    :sortie ds: float\n",
    "    :pré-cond: j >= 0 , 0 ≤ h < 24 , 0 ≤ m < 60, 0 ≤ s < 60\n",
    "    :post-cond: ds est le nombre de secondes correspond à\n",
    "                une durée de j jours, h heures, m minutes et s secondes.\n",
    "    \"\"\"\n",
    "    ds=j*3600*24+h*3600+m*60+s\n",
    "    print(ds)\n",
    "duree_en_secondes(0,0,24,30)\n",
    "duree_en_secondes(1,4,5,7)"
   ]
  },
  {
   "cell_type": "markdown",
   "metadata": {},
   "source": [
    "**Question 2.** Convertir un nombre de secondes en durée."
   ]
  },
  {
   "cell_type": "code",
   "execution_count": 37,
   "metadata": {
    "collapsed": false
   },
   "outputs": [
    {
     "name": "stdout",
     "output_type": "stream",
     "text": [
      "1 4 5 7\n"
     ]
    }
   ],
   "source": [
    "def secondes_en_duree(sec):\n",
    "    \"\"\"\n",
    "    :entrée sec: int\n",
    "    :sortie j: int\n",
    "    :sortie h: int\n",
    "    :sortie m: int\n",
    "    :sortie s: int\n",
    "    :pré-cond: sec ≥ 0\n",
    "    :post-cond: sec est le nombre de secondes correspond à\n",
    "                une durée de j jours, h heures, m minutes et s secondes\n",
    "                avec j >= 0 , 0 ≤ h < 24 , 0 ≤ m < 60, 0 ≤ s < 60.\n",
    "    \"\"\"\n",
    "    j = sec // 86400\n",
    "    h = (sec % 86400) // 3600\n",
    "    m = (sec % 3600) // 60\n",
    "    s = sec % 60\n",
    "    print(j,h,m,s)\n",
    "    \n",
    "secondes_en_duree(101107)"
   ]
  },
  {
   "cell_type": "markdown",
   "metadata": {},
   "source": [
    "Rappel sur les divisions : \n",
    "    % est le modulo (reste de la division entière),\n",
    "    // permet de faire la division entière,\n",
    "    / donne le résultat de la division en flottant. "
   ]
  },
  {
   "cell_type": "code",
   "execution_count": 38,
   "metadata": {
    "collapsed": false
   },
   "outputs": [
    {
     "name": "stdout",
     "output_type": "stream",
     "text": [
      "3\n"
     ]
    }
   ],
   "source": [
    "print(123%10)"
   ]
  },
  {
   "cell_type": "code",
   "execution_count": 39,
   "metadata": {
    "collapsed": false
   },
   "outputs": [
    {
     "name": "stdout",
     "output_type": "stream",
     "text": [
      "12\n"
     ]
    }
   ],
   "source": [
    "print(123//10)"
   ]
  },
  {
   "cell_type": "code",
   "execution_count": 40,
   "metadata": {
    "collapsed": false
   },
   "outputs": [
    {
     "name": "stdout",
     "output_type": "stream",
     "text": [
      "12.3\n"
     ]
    }
   ],
   "source": [
    "print(123/10)"
   ]
  },
  {
   "cell_type": "markdown",
   "metadata": {},
   "source": [
    "**Question 3.** Écrire un petit nombre en chiffres romains. "
   ]
  },
  {
   "cell_type": "code",
   "execution_count": 41,
   "metadata": {
    "collapsed": false
   },
   "outputs": [
    {
     "name": "stdout",
     "output_type": "stream",
     "text": [
      "I\n",
      "II\n",
      "III\n",
      "IV\n",
      "V\n",
      "VI\n",
      "VII\n",
      "VIII\n",
      "IX\n",
      "X\n"
     ]
    }
   ],
   "source": [
    "def romain_chiffre(n):\n",
    "    \"\"\"\n",
    "    :entrée n: int\n",
    "    :sortie r: str\n",
    "    :pré-cond: 0 < n <= 10\n",
    "    :post-cond: r est le représentation en chiffres romains de n\n",
    "    \"\"\"\n",
    "    if n<=3:\n",
    "         print(n*\"I\")\n",
    "    elif n==4:\n",
    "        print(\"IV\")\n",
    "    elif n<=8:\n",
    "        u=n-5\n",
    "        print(\"V\"+u*\"I\")\n",
    "    else:\n",
    "        print( (10-n)*\"I\"+\"X\")\n",
    "    \n",
    "        \n",
    "romain_chiffre(1)\n",
    "romain_chiffre(2)\n",
    "romain_chiffre(3)\n",
    "romain_chiffre(4)\n",
    "romain_chiffre(5)\n",
    "romain_chiffre(6)\n",
    "romain_chiffre(7)\n",
    "romain_chiffre(8)\n",
    "romain_chiffre(9)\n",
    "romain_chiffre(10)\n",
    "    \n",
    "    "
   ]
  },
  {
   "cell_type": "markdown",
   "metadata": {},
   "source": [
    "On s'autorise à multiplier les chaînes de caractères..."
   ]
  },
  {
   "cell_type": "code",
   "execution_count": 42,
   "metadata": {
    "collapsed": false
   },
   "outputs": [
    {
     "name": "stdout",
     "output_type": "stream",
     "text": [
      "III\n"
     ]
    }
   ],
   "source": [
    "print(3*\"I\")"
   ]
  },
  {
   "cell_type": "markdown",
   "metadata": {},
   "source": [
    "**Question 4.** Écrire un algorithme qui donne la mention d'un étudiant en fonction de sa note. Les seuils sont 8, 10, 12."
   ]
  },
  {
   "cell_type": "markdown",
   "metadata": {},
   "source": [
    "def mention(note):\n",
    "    \"\"\"\n",
    "    entrée note (float)\n",
    "    sortie mention (str)\n",
    "    pré cond note >=0 & note <=20\n",
    "    post cond la mention depend de la note\n",
    "    \"\"\"\n",
    "    if note<8:\n",
    "        print(\"recale\")\n",
    "    elif note <10:\n",
    "        print(\"rattrapage\")\n",
    "    elif note<12:\n",
    "        print(\"admin mais enfin on attendait mieux de toi\")\n",
    "    else:\n",
    "        print(\"mention\")\n",
    "        \n",
    "mention(4)\n",
    "mention(9)\n",
    "mention(11)\n",
    "mention(17)\n",
    "    "
   ]
  },
  {
   "cell_type": "markdown",
   "metadata": {},
   "source": [
    "**Question 5.** Écrire un algorithme qui retourne la moyenne de trois nombres. "
   ]
  },
  {
   "cell_type": "code",
   "execution_count": 43,
   "metadata": {
    "collapsed": false
   },
   "outputs": [
    {
     "name": "stdout",
     "output_type": "stream",
     "text": [
      "6.0\n"
     ]
    }
   ],
   "source": [
    "def moyenne(a,b,c):\n",
    "    '''\n",
    "    entrées : a, b, c : float\n",
    "    sortie : m : float\n",
    "    pré-cond : a, b, c sont compris entre 0 et 20 inclus\n",
    "    post-cond : m est la moyenne des trois nombres\n",
    "    '''\n",
    "    m = (a+b+c)/3\n",
    "    return(m)\n",
    "    \n",
    "moyenne(3,6,9)\n",
    "print(moyenne(3,6,9))"
   ]
  },
  {
   "cell_type": "markdown",
   "metadata": {},
   "source": [
    "**Question 6.** Écrire un nouvel algorithme qui, étant données trois notes, retourne la moyenne et la mention corresponsante. "
   ]
  },
  {
   "cell_type": "code",
   "execution_count": 44,
   "metadata": {
    "collapsed": true
   },
   "outputs": [],
   "source": [
    "def mention(n):\n",
    "    if n <8:\n",
    "        print(\"Recalé\")\n",
    "    elif n <10:\n",
    "        print(\"Rattrapage\")\n",
    "    elif n <12:\n",
    "        print(\"Admis\")\n",
    "    else:\n",
    "        print(\"Yeaaah!\")"
   ]
  },
  {
   "cell_type": "code",
   "execution_count": 45,
   "metadata": {
    "collapsed": false
   },
   "outputs": [
    {
     "name": "stdout",
     "output_type": "stream",
     "text": [
      "Recalé\n"
     ]
    }
   ],
   "source": [
    "def bilan(a,b,c):\n",
    "    '''\n",
    "    entrées : a, b, c : float\n",
    "    sortie : mention : str\n",
    "    pré-cond : a, b, c sont compris entre 0 et 20 inclus\n",
    "    post-cond : mention depend de la moyenne des trois nombres\n",
    "    '''\n",
    "    moy = moyenne(a,b,c)\n",
    "        \n",
    "    mention(moy)\n",
    "        \n",
    "bilan(3,6,9)"
   ]
  }
 ],
 "metadata": {
  "kernelspec": {
   "display_name": "Python 3",
   "language": "python",
   "name": "python3"
  },
  "language_info": {
   "codemirror_mode": {
    "name": "ipython",
    "version": 3
   },
   "file_extension": ".py",
   "mimetype": "text/x-python",
   "name": "python",
   "nbconvert_exporter": "python",
   "pygments_lexer": "ipython3",
   "version": "3.5.2"
  }
 },
 "nbformat": 4,
 "nbformat_minor": 1
}
