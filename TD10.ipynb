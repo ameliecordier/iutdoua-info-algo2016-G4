{
 "cells": [
  {
   "cell_type": "markdown",
   "metadata": {},
   "source": [
    "1. Calculer la différence en secondes entre deux dates\n",
    "2. Dire quelle lettre apparaît le plus souvent dans une chaîne de caractères\n",
    "3. Écrire l'algorithme de factorielle\n",
    "4. Calculer la somme des n premières factorielles\n",
    "5. Afficher sur plusieurs lignes une chaîne en fonction d'un séparateur\n",
    "6. Compter le nombre de majuscules dans une chaîne\n",
    "7. Compter le nombre de mots dans une chaîne\n",
    "8. Calculer la longueur moyenne des mots dans une chaîne\n",
    "9. Vérifier si une chaîne est bien parenthésée\n",
    "10. Convertir une chaîne en entier sans utiliser int sur le nombre entier\n"
   ]
  }
 ],
 "metadata": {
  "kernelspec": {
   "display_name": "Python 3",
   "language": "python",
   "name": "python3"
  },
  "language_info": {
   "codemirror_mode": {
    "name": "ipython",
    "version": 3
   },
   "file_extension": ".py",
   "mimetype": "text/x-python",
   "name": "python",
   "nbconvert_exporter": "python",
   "pygments_lexer": "ipython3",
   "version": "3.5.2"
  }
 },
 "nbformat": 4,
 "nbformat_minor": 1
}
