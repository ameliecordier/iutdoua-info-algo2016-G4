{
 "cells": [
  {
   "cell_type": "markdown",
   "metadata": {},
   "source": [
    "Nous avons commencé par un petit contrôle sur le dessin des formes. "
   ]
  },
  {
   "cell_type": "markdown",
   "metadata": {},
   "source": [
    "**Question 1.** Gestion des entrées utilisateur."
   ]
  },
  {
   "cell_type": "code",
   "execution_count": null,
   "metadata": {
    "collapsed": false
   },
   "outputs": [],
   "source": [
    "print(\"Entrez un nombre\")\n",
    "a = input()\n",
    "print(a)\n",
    "\n",
    "print(\"Entrez un autre nombre\")\n",
    "b = input()\n",
    "print(4*b)\n",
    "\n",
    "print(\"Entrez un troisième nombre\")\n",
    "c = int(input())\n",
    "print(4*c)\n",
    "\n",
    "print(\"Entrez une chaîne de caractères\")\n",
    "d = input()\n",
    "print(\"La chaîne entrée est \"+d)"
   ]
  },
  {
   "cell_type": "markdown",
   "metadata": {},
   "source": [
    "**Question 2.** Maintenant que vous maîtrisez les entrées-sorties, écrivez donc l'algorithme du jeu \"devinez le nombre\". "
   ]
  },
  {
   "cell_type": "code",
   "execution_count": 1,
   "metadata": {
    "collapsed": false
   },
   "outputs": [
    {
     "name": "stdout",
     "output_type": "stream",
     "text": [
      "Devine le nombre : 4\n",
      "C'est plus, réessaye : 6\n",
      "C'est plus, réessaye : 7\n",
      "Oui oui oui c'est gagné en 3 coup(s) !\n"
     ]
    }
   ],
   "source": [
    "def devine(nb):\n",
    "\n",
    "    \"\"\"\n",
    "    entrée:nb de type int\n",
    "    pré-cond:nb est entier\n",
    "    \"\"\"\n",
    "    a=int(input(\"Devine le nombre : \"))\n",
    "    i=1\n",
    "    while (a!=nb) and (i<10):\n",
    "        if (a>nb):\n",
    "            a=int(input(\"C'est moins, réessaye : \"))\n",
    "        else:\n",
    "            a=int(input(\"C'est plus, réessaye : \"))\n",
    "        i=i+1\n",
    "    if (i>=10):\n",
    "        print(\"dommage, raté, le nombre était : \"+str(nb))\n",
    "    else:\n",
    "        print(\"Oui oui oui c'est gagné en \"+str(i)+\" coup(s) !\")\n",
    "    \n",
    "devine(7)\n",
    "    "
   ]
  },
  {
   "cell_type": "markdown",
   "metadata": {},
   "source": [
    "**Question 3.** Écrivez un algorithme qui demande à l'utilisateur trois nombres et qui retourne le minimum, le maximum, la somme et la moyenne des trois nombres en une seule ligne. Vous veillerez bien à décomposer votre algorithme en plusieurs petits algorithmes.  "
   ]
  },
  {
   "cell_type": "markdown",
   "metadata": {},
   "source": [
    "**Question 4.** Si vous avez terminé tous les exercices de ce TD, je vous recommande, pour réviser : \n",
    "\n",
    "  * http://liris.cnrs.fr/~pchampin/enseignement/algo/exercices/instructions.html#annee-bissextile\n",
    "  * http://liris.cnrs.fr/~pchampin/enseignement/algo/exercices/instructions.html#ordre-dates\n",
    "  * http://liris.cnrs.fr/~pchampin/enseignement/algo/exercices/instructions.html#factorielle\n",
    "  * http://liris.cnrs.fr/~pchampin/enseignement/algo/exercices/instructions.html#sin"
   ]
  }
 ],
 "metadata": {
  "kernelspec": {
   "display_name": "Python 3",
   "language": "python",
   "name": "python3"
  },
  "language_info": {
   "codemirror_mode": {
    "name": "ipython",
    "version": 3
   },
   "file_extension": ".py",
   "mimetype": "text/x-python",
   "name": "python",
   "nbconvert_exporter": "python",
   "pygments_lexer": "ipython3",
   "version": "3.5.2"
  }
 },
 "nbformat": 4,
 "nbformat_minor": 1
}
