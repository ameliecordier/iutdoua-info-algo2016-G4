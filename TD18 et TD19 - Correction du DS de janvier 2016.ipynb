{
 "cells": [
  {
   "cell_type": "markdown",
   "metadata": {},
   "source": [
    "**Exercice 1** Corrigé au tableau"
   ]
  },
  {
   "cell_type": "code",
   "execution_count": 2,
   "metadata": {
    "collapsed": false
   },
   "outputs": [
    {
     "name": "stdout",
     "output_type": "stream",
     "text": [
      "[2 3 4 6 4 6 7 5]\n",
      "4\n",
      "6\n",
      "4\n",
      "Fini\n"
     ]
    }
   ],
   "source": [
    "import numpy as np\n",
    "\n",
    "tableau = np.array([2, 3, 4, 6, 4, 6, 7, 5])\n",
    "print(tableau)\n",
    "\n",
    "#Exercice 2\n",
    "def afficheTabRec(tab, imin, imax):\n",
    "    if imin==imax:\n",
    "        print(\"Fini\")\n",
    "    else:\n",
    "        print(tab[imin])\n",
    "        afficheTabRec(tab, imin+1, imax)\n",
    "    \n",
    "afficheTabRec(tableau, 2, 5)\n",
    "    \n",
    "    "
   ]
  },
  {
   "cell_type": "code",
   "execution_count": 2,
   "metadata": {
    "collapsed": false
   },
   "outputs": [
    {
     "name": "stdout",
     "output_type": "stream",
     "text": [
      "True\n",
      "False\n"
     ]
    }
   ],
   "source": [
    "def test_trié_croissant(tab,imin,imax):\n",
    "    \n",
    "    if imin==imax:\n",
    "        return True\n",
    "    else:\n",
    "        if tab[imin]>tab[imin+1]:\n",
    "            return False\n",
    "        else:\n",
    "            return test_trié_croissant(tab,imin+1,imax)\n",
    "        \n",
    "print(test_trié_croissant(tableau,0,3))\n",
    "print(test_trié_croissant(tableau,2,6))"
   ]
  },
  {
   "cell_type": "code",
   "execution_count": 4,
   "metadata": {
    "collapsed": false
   },
   "outputs": [
    {
     "name": "stdout",
     "output_type": "stream",
     "text": [
      "(array([  4.,   8.,  10.]), array([ 1.,  3.,  4.]))\n"
     ]
    }
   ],
   "source": [
    "def compresse_tableau(t):\n",
    "    k=0\n",
    "    for i in range(len(t)):\n",
    "        if t[i]!=0:\n",
    "            k=k+1\n",
    "    tind=np.zeros(k)\n",
    "    tval=np.zeros(k)\n",
    "    c=0\n",
    "    for i in range(len(t)):\n",
    "        if t[i]!=0:\n",
    "            tind[c]=i\n",
    "            tval[c]=t[i]\n",
    "            c=c+1\n",
    "    return tind, tval\n",
    "\n",
    "print(compresse_tableau(np.array([0,0,0,0,1,0,0,0,3,0,4])))"
   ]
  },
  {
   "cell_type": "code",
   "execution_count": 4,
   "metadata": {
    "collapsed": false
   },
   "outputs": [],
   "source": [
    "tind = np.array([1, 3, 6, 8, 11, 14, 42, 64, 96, 433, 870])\n",
    "tval = np.array([1.1, 2.2, 6.6, 2.1, 1.1, 13.3, 14.3, 6.0, 9.0, 10.1, 12.11])"
   ]
  },
  {
   "cell_type": "code",
   "execution_count": 35,
   "metadata": {
    "collapsed": false
   },
   "outputs": [
    {
     "name": "stdout",
     "output_type": "stream",
     "text": [
      "0\n",
      "1\n",
      "2\n",
      "3\n",
      "4\n",
      "5\n",
      "6\n",
      "7\n",
      "8\n",
      "9\n",
      "10\n",
      "-1\n",
      "-1\n",
      "-1\n",
      "-1\n",
      "-1\n",
      "-1\n",
      "-1\n"
     ]
    },
    {
     "data": {
      "text/plain": [
       "12.109999999999999"
      ]
     },
     "execution_count": 35,
     "metadata": {},
     "output_type": "execute_result"
    }
   ],
   "source": [
    "def rechercheInd(tab,imin, imax,ind):\n",
    "    milieu=imin+(imax-imin)//2\n",
    "    valmilieu=tab[milieu]\n",
    "    if valmilieu==ind:\n",
    "        return milieu\n",
    "    elif imax-imin==1:\n",
    "        if tab[imin]==ind:\n",
    "            return imin\n",
    "        elif tab[imax]==ind:\n",
    "            return imax\n",
    "        else :\n",
    "            return -1\n",
    "    elif valmilieu>ind:\n",
    "        imax=milieu\n",
    "        return rechercheInd(tab,imin,imax,ind)\n",
    "    else:  #valmilieu<ind\n",
    "        imin=milieu\n",
    "        return rechercheInd(tab,imin,imax,ind)\n",
    "print(rechercheInd(tind,0,len(tind)-1,1))\n",
    "print(rechercheInd(tind,0,len(tind)-1,3)) \n",
    "print(rechercheInd(tind,0,len(tind)-1,6)) \n",
    "print(rechercheInd(tind,0,len(tind)-1,8)) \n",
    "print(rechercheInd(tind,0,len(tind)-1,11)) \n",
    "print(rechercheInd(tind,0,len(tind)-1,14)) \n",
    "print(rechercheInd(tind,0,len(tind)-1,42)) \n",
    "print(rechercheInd(tind,0,len(tind)-1,64)) \n",
    "print(rechercheInd(tind,0,len(tind)-1,96)) \n",
    "print(rechercheInd(tind,0,len(tind)-1,433)) \n",
    "print(rechercheInd(tind,0,len(tind)-1,870)) \n",
    "print(rechercheInd(tind,0,len(tind)-1,65)) \n",
    "print(rechercheInd(tind,0,len(tind)-1,66)) \n",
    "print(rechercheInd(tind,0,len(tind)-1,2)) \n",
    "print(rechercheInd(tind,0,len(tind)-1,13)) \n",
    "print(rechercheInd(tind,0,len(tind)-1,17)) \n",
    "print(rechercheInd(tind,0,len(tind)-1,912)) \n",
    "print(rechercheInd(tind,0,len(tind)-1,0))\n",
    "\n",
    "def valeur(tval, ind):\n",
    "    ind2=rechercheInd(tind,0,len(tind)-1,ind)\n",
    "    if ind2==-1:\n",
    "        fin=0\n",
    "    else :\n",
    "        fin=tval[ind2]\n",
    "    return fin\n",
    "\n",
    "valeur(tval, 870)\n",
    "\n",
    "    "
   ]
  },
  {
   "cell_type": "code",
   "execution_count": 22,
   "metadata": {
    "collapsed": false
   },
   "outputs": [
    {
     "name": "stdout",
     "output_type": "stream",
     "text": [
      "[  1   3   6   8  11  14  42  64  96 433 870]\n"
     ]
    }
   ],
   "source": [
    "def extraire_valeur (tind, tval, it) :\n",
    "    if len(tind)==1 :\n",
    "        return 0\n",
    "    m=len(tind)//2\n",
    "    if tind[m]==it :\n",
    "        return tval[m]\n",
    "    elif tind[m] > it :\n",
    "        return(extraire_valeur (tind[:m], tval, it))\n",
    "    else :\n",
    "        return(extraire_valeur (tind[m:], tval, it))\n",
    "    \n",
    "tind = np.array([1, 3, 6, 8, 11, 14, 42, 64, 96, 433, 870])\n",
    "tval = np.array([1.1, 2.2, 6.6, 2.1, 1.1, 13.3, 14.3, 6.0, 9.0, 10.1, 12.11])\n",
    "\n",
    "extraire_valeur(tind, tval, 1)\n",
    "print(tind)"
   ]
  }
 ],
 "metadata": {
  "kernelspec": {
   "display_name": "Python 3",
   "language": "python",
   "name": "python3"
  },
  "language_info": {
   "codemirror_mode": {
    "name": "ipython",
    "version": 3
   },
   "file_extension": ".py",
   "mimetype": "text/x-python",
   "name": "python",
   "nbconvert_exporter": "python",
   "pygments_lexer": "ipython3",
   "version": "3.5.2"
  }
 },
 "nbformat": 4,
 "nbformat_minor": 1
}
