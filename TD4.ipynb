{
 "cells": [
  {
   "cell_type": "markdown",
   "metadata": {},
   "source": [
    "Nous avons commencé par une petite interrogation"
   ]
  },
  {
   "cell_type": "markdown",
   "metadata": {},
   "source": [
    "**Exercices mystères**"
   ]
  },
  {
   "cell_type": "code",
   "execution_count": 2,
   "metadata": {
    "collapsed": false
   },
   "outputs": [
    {
     "name": "stdout",
     "output_type": "stream",
     "text": [
      "0 11\n",
      "1 34\n",
      "2 17\n",
      "3 52\n",
      "4 26\n",
      "5 13\n",
      "6 40\n",
      "7 20\n",
      "8 10\n",
      "9 5\n"
     ]
    }
   ],
   "source": [
    "x = 11\n",
    "n = 0\n",
    "while n < 10:\n",
    "    print(n, x)\n",
    "    if x % 2 == 0:\n",
    "        x = x // 2\n",
    "    else:\n",
    "        x = 3 * x + 1\n",
    "    n = n + 1"
   ]
  },
  {
   "cell_type": "code",
   "execution_count": null,
   "metadata": {
    "collapsed": true
   },
   "outputs": [],
   "source": [
    "ch = \"? eluor aç\"\n",
    "lc = len(ch)\n",
    "i = lc - 1 \n",
    "sortie = \"\"\n",
    "while i >= 0:\n",
    "    sortie = sortie + ch[i]\n",
    "    i = i - 1\n",
    "print(sortie)"
   ]
  },
  {
   "cell_type": "code",
   "execution_count": 3,
   "metadata": {
    "collapsed": false
   },
   "outputs": [
    {
     "name": "stdout",
     "output_type": "stream",
     "text": [
      "1\n",
      "2\n",
      "3\n",
      "5\n",
      "8\n",
      "13\n",
      "21\n",
      "34\n",
      "55\n",
      "89\n",
      "144\n",
      "233\n",
      "377\n",
      "610\n",
      "987\n"
     ]
    }
   ],
   "source": [
    "a, b, c = 1, 1, 1             \n",
    "                              \n",
    "print(1)                       \n",
    "while c<15:                   \n",
    "    a, b, c = b, a+b, c+1\n",
    "    print(b)"
   ]
  },
  {
   "cell_type": "code",
   "execution_count": 4,
   "metadata": {
    "collapsed": false
   },
   "outputs": [
    {
     "name": "stdout",
     "output_type": "stream",
     "text": [
      "1\n",
      "2\n",
      "4\n",
      "8\n",
      "16\n",
      "32\n",
      "64\n",
      "128\n",
      "256\n",
      "512\n",
      "1024\n",
      "2048\n",
      "4096\n",
      "8192\n",
      "16384\n"
     ]
    }
   ],
   "source": [
    "a, b, c = 1, 1, 1             \n",
    "                              \n",
    "print(1)                       \n",
    "while c<15:                   \n",
    "    a = b\n",
    "    b = a+b\n",
    "    c = c+1\n",
    "    print(b)\n",
    "\n"
   ]
  },
  {
   "cell_type": "markdown",
   "metadata": {},
   "source": [
    "**Dessinons des formes**"
   ]
  },
  {
   "cell_type": "markdown",
   "metadata": {},
   "source": [
    "**F1.** Écrire un algorithme qui permet d'afficher un rectangle de largeur l et de hauteur h. "
   ]
  },
  {
   "cell_type": "code",
   "execution_count": 9,
   "metadata": {
    "collapsed": false
   },
   "outputs": [
    {
     "name": "stdout",
     "output_type": "stream",
     "text": [
      "****\n",
      "****\n",
      "****\n"
     ]
    }
   ],
   "source": [
    "def afficheRect(a,b):\n",
    "    \"\"\"\n",
    "    entrée a,b : entier\n",
    "    precond: a et b strictement superieur a 0\n",
    "    sortie : rectangle de \"*\"\n",
    "    post cond : le rectangle de \"*\" est de largeur a et longeur b\n",
    "    \"\"\"\n",
    "    #print(a*\"*\")\n",
    "    #i=2\n",
    "    i=1\n",
    "    while i<=b :\n",
    "        print(a*\"*\")\n",
    "        i=i+1\n",
    "afficheRect(4,3)\n",
    "\n",
    "        \n",
    "     \n",
    "    \n",
    "    "
   ]
  },
  {
   "cell_type": "code",
   "execution_count": 10,
   "metadata": {
    "collapsed": false
   },
   "outputs": [
    {
     "name": "stdout",
     "output_type": "stream",
     "text": [
      "***\n",
      "***\n",
      "***\n",
      "***\n",
      "***\n"
     ]
    }
   ],
   "source": [
    "def afficherRectBis(l, h):\n",
    "    for i in range(h):\n",
    "        print(l*\"*\")\n",
    "\n",
    "afficherRectBis(3,5)"
   ]
  },
  {
   "cell_type": "code",
   "execution_count": 13,
   "metadata": {
    "collapsed": false
   },
   "outputs": [
    {
     "name": "stdout",
     "output_type": "stream",
     "text": [
      "\n",
      "*\n",
      "**\n",
      "***\n",
      "****\n"
     ]
    }
   ],
   "source": [
    "def afficherTri(l):\n",
    "    for i in range (l):\n",
    "        print(i*\"*\")\n",
    "        \n",
    "afficherTri(5)"
   ]
  },
  {
   "cell_type": "code",
   "execution_count": null,
   "metadata": {
    "collapsed": true
   },
   "outputs": [],
   "source": []
  }
 ],
 "metadata": {
  "kernelspec": {
   "display_name": "Python 3",
   "language": "python",
   "name": "python3"
  },
  "language_info": {
   "codemirror_mode": {
    "name": "ipython",
    "version": 3
   },
   "file_extension": ".py",
   "mimetype": "text/x-python",
   "name": "python",
   "nbconvert_exporter": "python",
   "pygments_lexer": "ipython3",
   "version": "3.5.2"
  }
 },
 "nbformat": 4,
 "nbformat_minor": 1
}
