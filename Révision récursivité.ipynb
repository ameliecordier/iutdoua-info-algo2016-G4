{
 "cells": [
  {
   "cell_type": "code",
   "execution_count": 7,
   "metadata": {
    "collapsed": false
   },
   "outputs": [
    {
     "name": "stdout",
     "output_type": "stream",
     "text": [
      "[4, 6, 2, 3, 1, 0, 9, 8]\n",
      "[2, 3, 1, 0, 4, 6, 9, 8]\n",
      "[2, 3, 0, 1, 4, 6, 9, 8]\n",
      "[0, 1, 2, 3, 4, 6, 8, 9]\n"
     ]
    }
   ],
   "source": [
    "santa = [4, 6, 2, 3, 1, 0, 9, 8]\n",
    "\n",
    "def partitionner(tab, imin, imax):\n",
    "    save=tab[imin]\n",
    "    tab[imin]=tab[imax]\n",
    "    tab[imax]=save\n",
    "    j=imin\n",
    "    for i in range (imin,imax):\n",
    "        if tab[i]<=tab[imax]:\n",
    "            save=tab[i]\n",
    "            tab[i]=tab[j]\n",
    "            tab[j]=save\n",
    "            j=j+1\n",
    "    save=tab[j]\n",
    "    tab[j]=tab[imax]\n",
    "    tab[imax]=save\n",
    "    return j\n",
    "\n",
    "def quicksort(tab, imin, imax):\n",
    "    if imin<imax:\n",
    "        pivot=partitionner(tab,imin,imax)\n",
    "        quicksort(tab,imin,pivot-1)\n",
    "        quicksort(tab,pivot+1,imax)\n",
    "\n",
    "print(santa)\n",
    "partitionner(santa, 0, len(santa)-1)\n",
    "print(santa)\n",
    "partitionner(santa, 2, 6)\n",
    "print(santa)\n",
    "\n",
    "quicksort(santa, 0, len(santa)-1)\n",
    "\n",
    "print(santa)"
   ]
  },
  {
   "cell_type": "code",
   "execution_count": 8,
   "metadata": {
    "collapsed": false
   },
   "outputs": [
    {
     "name": "stdout",
     "output_type": "stream",
     "text": [
      "True\n",
      "False\n"
     ]
    }
   ],
   "source": [
    "monSuperTableau = [1,1,2,3,5,8,13]\n",
    "monTableauPasTop = [1,1,2,3,5,8,11]\n",
    "\n",
    "# ind >= 2 && ind < len(tab) && len(tab) > 2\n",
    "def verifSomme(tab, ind):\n",
    "    if(tab[ind-2]+tab[ind-1]) == tab[ind]:\n",
    "        if ind == len(tab)-1:\n",
    "            return True\n",
    "        else:\n",
    "            return verifSomme(tab, ind+1)\n",
    "    else:\n",
    "        return False\n",
    "\n",
    "print(verifSomme(monSuperTableau, 2))\n",
    "print(verifSomme(monTableauPasTop, 2))"
   ]
  },
  {
   "cell_type": "code",
   "execution_count": null,
   "metadata": {
    "collapsed": true
   },
   "outputs": [],
   "source": []
  }
 ],
 "metadata": {
  "kernelspec": {
   "display_name": "Python 3",
   "language": "python",
   "name": "python3"
  },
  "language_info": {
   "codemirror_mode": {
    "name": "ipython",
    "version": 3
   },
   "file_extension": ".py",
   "mimetype": "text/x-python",
   "name": "python",
   "nbconvert_exporter": "python",
   "pygments_lexer": "ipython3",
   "version": "3.5.2"
  }
 },
 "nbformat": 4,
 "nbformat_minor": 1
}
