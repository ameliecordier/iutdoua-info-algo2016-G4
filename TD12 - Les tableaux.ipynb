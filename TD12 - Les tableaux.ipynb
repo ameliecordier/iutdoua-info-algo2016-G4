{
 "cells": [
  {
   "cell_type": "markdown",
   "metadata": {},
   "source": [
    "** Attention ** : le cours est à lire dans son intégralité pour le prochain TD. Si vous avez des questions, n'hésitez pas à les poser au prochain TD... car au TD suivant, vous aurez une interrogation !"
   ]
  },
  {
   "cell_type": "code",
   "execution_count": 5,
   "metadata": {
    "collapsed": false
   },
   "outputs": [
    {
     "name": "stdout",
     "output_type": "stream",
     "text": [
      "[ 0.  0.  0.  0.  0.  0.  0.  0.  0.  0.  0.  0.  0.  0.  0.  0.  0.  0.\n",
      "  0.  0.]\n",
      "True\n",
      "[ 0.  0.  0.  0.  0.]\n",
      "25\n",
      "[ 1  2  5  6  7 10]\n"
     ]
    }
   ],
   "source": [
    "import numpy as np\n",
    "tableau = np.empty(20)\n",
    "print(tableau)\n",
    "print(tableau[1]==tableau[2])\n",
    "\n",
    "tab2 = np.zeros(5)\n",
    "print(tab2)\n",
    "print(len(tableau) + len(tab2))\n",
    "\n",
    "tab3 = np.array([1,2,5,6,7,10])\n",
    "print(tab3)"
   ]
  },
  {
   "cell_type": "markdown",
   "metadata": {},
   "source": [
    "**Les tableaux**"
   ]
  },
  {
   "cell_type": "code",
   "execution_count": 1,
   "metadata": {
    "collapsed": false
   },
   "outputs": [
    {
     "name": "stdout",
     "output_type": "stream",
     "text": [
      "[  1.08835389e-316   0.00000000e+000   6.90066334e-310   6.90069405e-310\n",
      "   6.90068060e-310   6.90069405e-310   1.12638588e-316   0.00000000e+000\n",
      "   6.90070023e-310   6.36598737e-311]\n",
      "10\n",
      "6.90068060163e-310\n",
      "[1 2 4 6 7]\n",
      "7\n"
     ]
    }
   ],
   "source": [
    "#Initialisation pour utiliser des \"vrais\" tableaux\n",
    "import numpy as np\n",
    "tableau = np.empty(10)\n",
    "print(tableau)\n",
    "print(len(tableau))\n",
    "print(tableau[4])\n",
    "autretableau = np.array([1,2,4,6,7])\n",
    "print(autretableau)\n",
    "print(autretableau[4])"
   ]
  },
  {
   "cell_type": "code",
   "execution_count": 2,
   "metadata": {
    "collapsed": false
   },
   "outputs": [
    {
     "name": "stdout",
     "output_type": "stream",
     "text": [
      "[ 0.  0.  0.  0.  0.  0.  0.  0.  0.  0.]\n"
     ]
    }
   ],
   "source": [
    "tableau0 = np.zeros(10)\n",
    "print(tableau0)"
   ]
  },
  {
   "cell_type": "markdown",
   "metadata": {},
   "source": [
    "**Exercices ** \n",
    "1. Rechercher si un élément est présent dans un tableau. \n",
    "2. Vérifier que deux tableaux sont égaux. \n",
    "3. Vérifier qu'un tableau est le préfixe d'un autre. \n",
    "4. Rechercher le minimum d'un tableau.\n",
    "5. Faire la somme des éléments d'un tableau.\n",
    "6. Calculer la moyenne des éléments d'un tableau.\n",
    "7. Multiplier tous les éléments d'un tableau par un facteur donné.\n",
    "8. Décaler tous les éléments d'un tableau à droite.\n",
    "9. Retourner un tableau contentant, case par case, le minimum de deux autres tableaux. \n",
    "10. Faire la somme des éléments dans les cases impaires d'un tableau. "
   ]
  },
  {
   "cell_type": "code",
   "execution_count": 6,
   "metadata": {
    "collapsed": false
   },
   "outputs": [
    {
     "name": "stdout",
     "output_type": "stream",
     "text": [
      "[1 2 3 3 5]\n"
     ]
    }
   ],
   "source": [
    "demo = np.array([1, 2, 3, 3, 5])\n",
    "print(demo)"
   ]
  },
  {
   "cell_type": "code",
   "execution_count": 8,
   "metadata": {
    "collapsed": true
   },
   "outputs": [],
   "source": [
    "def plusUn(untableau):\n",
    "    i = 0\n",
    "    while i < len(untableau):\n",
    "        untableau[i] = untableau[i]+1\n",
    "        i += 1\n",
    "    print(\"J'ai fini d'exécuter démo\")"
   ]
  },
  {
   "cell_type": "code",
   "execution_count": 9,
   "metadata": {
    "collapsed": false
   },
   "outputs": [
    {
     "name": "stdout",
     "output_type": "stream",
     "text": [
      "[1 2 3 3 5]\n",
      "J'ai fini d'exécuter démo\n",
      "[2 3 4 4 6]\n"
     ]
    }
   ],
   "source": [
    "print(demo)\n",
    "plusUn(demo)\n",
    "print(demo)"
   ]
  },
  {
   "cell_type": "code",
   "execution_count": 12,
   "metadata": {
    "collapsed": false
   },
   "outputs": [
    {
     "name": "stdout",
     "output_type": "stream",
     "text": [
      "7\n",
      "J'ai fini d'exécuter plus un\n",
      "7\n"
     ]
    }
   ],
   "source": [
    "unevariable = 7 \n",
    "def plusUn(a):\n",
    "    a = a + 1\n",
    "    print(\"J'ai fini d'exécuter plus un\")\n",
    "\n",
    "print(unevariable)\n",
    "plusUn(unevariable)\n",
    "print(unevariable)"
   ]
  },
  {
   "cell_type": "code",
   "execution_count": 21,
   "metadata": {
    "collapsed": false
   },
   "outputs": [
    {
     "name": "stdout",
     "output_type": "stream",
     "text": [
      "True\n",
      "False\n",
      "False\n"
     ]
    }
   ],
   "source": [
    "#Exercice 1\n",
    "def rechercheElement(tab, elt):\n",
    "    '''\n",
    "    entree-sortie tab: tableau d'int\n",
    "    entree elt: int\n",
    "    sortie trouve: booléen\n",
    "    pre-cond: aucune\n",
    "    post-cond: retourne True si l'élément elt \n",
    "               est présent dans le tableau tab\n",
    "               et False sinon\n",
    "    '''\n",
    "    trouve = False\n",
    "    i = 0\n",
    "    while i < len(tab) and not trouve:\n",
    "        if tab[i] == elt:\n",
    "            trouve = True\n",
    "        i = i+1\n",
    "    return trouve\n",
    "\n",
    "untest = np.array([1, 2, 4, 6, 3, 6, 7, 9])\n",
    "unautretest = np.array([])\n",
    "\n",
    "resultat = rechercheElement(untest, 4)\n",
    "print(resultat)\n",
    "resultat = rechercheElement(unautretest, 4)\n",
    "print(resultat)\n",
    "resultat = rechercheElement(untest, 23)\n",
    "print(resultat)"
   ]
  },
  {
   "cell_type": "code",
   "execution_count": 26,
   "metadata": {
    "collapsed": false
   },
   "outputs": [
    {
     "name": "stdout",
     "output_type": "stream",
     "text": [
      "False\n"
     ]
    }
   ],
   "source": [
    "def tabEgaux(tab1, tab2):\n",
    "    verif=True\n",
    "    if(len(tab1) != len(tab2)):\n",
    "        verif=False\n",
    "    i=0\n",
    "    while i<len(tab1) and verif:\n",
    "        if(tab1[i] != tab2[i]):\n",
    "            verif=False\n",
    "        i = i+1\n",
    "            \n",
    "    return verif\n",
    "\n",
    "t1 = np.array([1, 2, 4, 6, 3, 6, 7, 9])\n",
    "t2 = np.array([1, 2, 4, 9, 3, 6, 1, 9])\n",
    "t3 = np.array([1, 2, 4, 6, 3, 6])\n",
    "\n",
    "print(tabEgaux(t1, t3))"
   ]
  },
  {
   "cell_type": "code",
   "execution_count": 38,
   "metadata": {
    "collapsed": false
   },
   "outputs": [
    {
     "name": "stdout",
     "output_type": "stream",
     "text": [
      "True\n",
      "True\n",
      "False\n",
      "False\n"
     ]
    }
   ],
   "source": [
    "#Exercice 3\n",
    "#Ici, on répond avec deux méthodes pour travailler \n",
    "# les appels de fonctions\n",
    "\n",
    "def prefixe(tabpref,tab):\n",
    "    '''\n",
    "    entree-sortie tabpref : tableau d'ints\n",
    "    entree-sortie tab : tableau d'ints\n",
    "    pre-cond: len(tabpref) < len(tab)\n",
    "    post-cond: retourne True si tabpref est \n",
    "               un prefixe de tab\n",
    "    '''\n",
    "    val=True\n",
    "    i=0\n",
    "    while i<len(tabpref) and val:\n",
    "        if tabpref[i]!=tab[i]:\n",
    "            val=False\n",
    "        i+=1\n",
    "       \n",
    "    return(val)\n",
    "            \n",
    "    \n",
    "\n",
    "def prefixeGenerique(tab1,tab2):\n",
    "    '''\n",
    "    ... idem ...\n",
    "    post-cond : retrourne True si un des deux \n",
    "                tableaux est préfixe de l'autre \n",
    "                (mais ne dit pas lequel est préfixe)\n",
    "    '''\n",
    "    if len(tab2)<len(tab1):\n",
    "        val=prefixe(tab2,tab1)\n",
    "    else:\n",
    "        val=prefixe(tab1,tab2)\n",
    "    return(val)\n",
    "\n",
    "t1 = np.array([1, 2, 4, 6, 3, 6, 7, 9,0])\n",
    "t2 = np.array([1, 2])\n",
    "t3 = np.array([1, 4])\n",
    "\n",
    "print(prefixeGenerique(t1,t2))\n",
    "print(prefixeGenerique(t2,t1))\n",
    "print(prefixeGenerique(t1,t3))\n",
    "print(prefixeGenerique(t3,t1))\n",
    "\n"
   ]
  },
  {
   "cell_type": "code",
   "execution_count": 41,
   "metadata": {
    "collapsed": false
   },
   "outputs": [
    {
     "name": "stdout",
     "output_type": "stream",
     "text": [
      "0\n"
     ]
    }
   ],
   "source": [
    "#Exerice 4 \n",
    "def mini(tab):\n",
    "    mini=tab[0]\n",
    "    for i in range (len(tab)):\n",
    "        if tab[i]<mini:\n",
    "            mini=tab[i]\n",
    "    return(mini)\n",
    "print(mini(t1))"
   ]
  },
  {
   "cell_type": "code",
   "execution_count": 43,
   "metadata": {
    "collapsed": false
   },
   "outputs": [
    {
     "name": "stdout",
     "output_type": "stream",
     "text": [
      "38\n"
     ]
    }
   ],
   "source": [
    "#Exercice 5\n",
    "def sommetab(tab):\n",
    "    compte=0\n",
    "    for i in range(len(tab)):\n",
    "        compte+=tab[i]\n",
    "    return compte\n",
    "    \n",
    "\n",
    "print(sommetab(t1))"
   ]
  },
  {
   "cell_type": "code",
   "execution_count": 47,
   "metadata": {
    "collapsed": false
   },
   "outputs": [
    {
     "name": "stdout",
     "output_type": "stream",
     "text": [
      "4.22222222222\n"
     ]
    }
   ],
   "source": [
    "#Exercice 6\n",
    "def moyennetab(tab):\n",
    "    '''\n",
    "    pre-cond : tab ne doit pas être vide\n",
    "    '''\n",
    "    return sommetab(tab) / len(tab)\n",
    "\n",
    "print(moyennetab(t1))\n"
   ]
  },
  {
   "cell_type": "code",
   "execution_count": 54,
   "metadata": {
    "collapsed": false
   },
   "outputs": [
    {
     "name": "stdout",
     "output_type": "stream",
     "text": [
      "[1024 2048 4096 6144 3072 6144 7168 9216    0]\n",
      "[ 4096  8192 16384 24576 12288 24576 28672 36864     0]\n"
     ]
    }
   ],
   "source": [
    "#Exercice 7\n",
    "def multab(tab,nb):\n",
    "    i=0\n",
    "    while i<len(tab):\n",
    "        tab[i]=nb*tab[i]\n",
    "        i=i+1\n",
    "print(t1)\n",
    "multab(t1,4)\n",
    "print(t1)"
   ]
  },
  {
   "cell_type": "code",
   "execution_count": 59,
   "metadata": {
    "collapsed": false
   },
   "outputs": [
    {
     "name": "stdout",
     "output_type": "stream",
     "text": [
      "[36864     0     0  8192 16384 24576 12288 24576 28672]\n",
      "[28672 36864     0     0  8192 16384 24576 12288 24576]\n"
     ]
    }
   ],
   "source": [
    "#Exercice 8 \n",
    "def decalageADroite(tab):\n",
    "    i = len(tab)-1\n",
    "    temp = tab[i]\n",
    "    while i > 0:\n",
    "        tab[i] = tab[i-1]\n",
    "        i=i-1\n",
    "    tab[0] = temp\n",
    "print(t1)\n",
    "decalageADroite(t1)\n",
    "print(t1)\n"
   ]
  },
  {
   "cell_type": "code",
   "execution_count": 61,
   "metadata": {
    "collapsed": false
   },
   "outputs": [
    {
     "name": "stdout",
     "output_type": "stream",
     "text": [
      "[ 0.  2.  3.  5.  7.]\n"
     ]
    }
   ],
   "source": [
    "#Exercice 9\n",
    "def minDeDeuxTab(t1, t2):\n",
    "    i = 0\n",
    "    t3 = np.empty(len(t1))\n",
    "    while i < len(t1):\n",
    "        if t1[i] < t2[i]:\n",
    "            t3[i] = t1[i]\n",
    "        else:\n",
    "            t3[i] = t2[i]\n",
    "        i = i + 1\n",
    "    return t3\n",
    "\n",
    "t1 = np.array([1, 2, 4, 5, 7])\n",
    "t2 = np.array([0, 4, 3, 8, 7])\n",
    "\n",
    "print(minDeDeuxTab(t1,t2))"
   ]
  },
  {
   "cell_type": "code",
   "execution_count": null,
   "metadata": {
    "collapsed": true
   },
   "outputs": [],
   "source": []
  }
 ],
 "metadata": {
  "kernelspec": {
   "display_name": "Python 3",
   "language": "python",
   "name": "python3"
  },
  "language_info": {
   "codemirror_mode": {
    "name": "ipython",
    "version": 3
   },
   "file_extension": ".py",
   "mimetype": "text/x-python",
   "name": "python",
   "nbconvert_exporter": "python",
   "pygments_lexer": "ipython3",
   "version": "3.5.2"
  }
 },
 "nbformat": 4,
 "nbformat_minor": 1
}
