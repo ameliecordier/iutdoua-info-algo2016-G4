{
 "cells": [
  {
   "cell_type": "markdown",
   "metadata": {},
   "source": [
    "**Question 1.** Afficher un triangle de base N.\n",
    "\n",
    "Deux solutions : avec for ou avec while. Attention : le corrigé du TD4 contenait une erreur. "
   ]
  },
  {
   "cell_type": "code",
   "execution_count": 2,
   "metadata": {
    "collapsed": false
   },
   "outputs": [
    {
     "name": "stdout",
     "output_type": "stream",
     "text": [
      "*\n",
      "**\n",
      "***\n",
      "****\n",
      "*****\n"
     ]
    }
   ],
   "source": [
    "def afficherTri(l):\n",
    "    \"\"\"\n",
    "    :entree l : int\n",
    "    :pré-cond : l est un entier strictement positif\n",
    "    :sortie : aucune\n",
    "    :post-cond : un triangle isocèle rectangle est affiché,\n",
    "                 avec l'angle droit en bas à gauche. \n",
    "    \"\"\"\n",
    "    for i in range (l):\n",
    "        print((i+1)*\"*\")\n",
    "        \n",
    "afficherTri(5)"
   ]
  },
  {
   "cell_type": "code",
   "execution_count": 3,
   "metadata": {
    "collapsed": false
   },
   "outputs": [
    {
     "name": "stdout",
     "output_type": "stream",
     "text": [
      "*\n",
      "**\n",
      "***\n",
      "****\n",
      "*****\n"
     ]
    }
   ],
   "source": [
    "def afficherTriBis(l):\n",
    "    \"\"\"\n",
    "    idem\n",
    "    \"\"\"\n",
    "    i=1\n",
    "    while(i<=l):\n",
    "        print(i*\"*\")\n",
    "        i=i+1\n",
    "        \n",
    "afficherTriBis(5)        "
   ]
  },
  {
   "cell_type": "markdown",
   "metadata": {},
   "source": [
    "**Question 2.** Afficher une croix (un +) de largeur l et de hauteur h."
   ]
  },
  {
   "cell_type": "code",
   "execution_count": 4,
   "metadata": {
    "collapsed": false
   },
   "outputs": [
    {
     "name": "stdout",
     "output_type": "stream",
     "text": [
      "  *\n",
      "  *\n",
      "  *\n",
      "  *\n",
      "*****\n",
      "  *\n",
      "  *\n",
      "  *\n",
      "  *\n"
     ]
    }
   ],
   "source": [
    "def afficherCroix(l,h):\n",
    "    \"\"\"\n",
    "    :entrées l et h: int\n",
    "    :sortie: aucune\n",
    "    :précond: l est la largeur et h la hauteur de la croix, l et h impairs\n",
    "    :post cond: affichage d'une crois (type +) symétrique sur la sortie standard\n",
    "    \"\"\"\n",
    "    a=l//2\n",
    "    b=h//2\n",
    "    for i in range (h):\n",
    "        if i==b:\n",
    "            print(l*\"*\")\n",
    "        else:\n",
    "            print (a*\" \"+\"*\")\n",
    "\n",
    "afficherCroix(5,9)"
   ]
  },
  {
   "cell_type": "markdown",
   "metadata": {},
   "source": [
    "**Question 3.** Afficher un losange."
   ]
  },
  {
   "cell_type": "code",
   "execution_count": 5,
   "metadata": {
    "collapsed": false
   },
   "outputs": [
    {
     "name": "stdout",
     "output_type": "stream",
     "text": [
      "  *\n",
      " ***\n",
      "*****\n",
      " ***\n",
      "  *\n"
     ]
    }
   ],
   "source": [
    "def afficherLosange(h):\n",
    "    \"\"\"\n",
    "    :entrée h: int\n",
    "    :pre-cond: h est impair\n",
    "    :post-cond: affiche un losange régulier sur la sortie standard\n",
    "    \"\"\"\n",
    "    a=h//2\n",
    "    i=1\n",
    "    while a>=0:\n",
    "        print(a*\" \"+i*\"*\")\n",
    "        i=i+2\n",
    "        a=a-1\n",
    "    i=h-2\n",
    "    a=1\n",
    "    while i>=1:\n",
    "        print(a*\" \"+i*\"*\")\n",
    "        i=i-2\n",
    "        a=a+1\n",
    "        \n",
    "afficherLosange(5)"
   ]
  },
  {
   "cell_type": "markdown",
   "metadata": {},
   "source": [
    "**Question 4.** Afficher un losange, mais modifier l'algorithme de sorte à permettre de choisir à la fois le caractère utilisé pour dessiner le losange, et celui utilisé pour combler l'espace autour du losange. "
   ]
  },
  {
   "cell_type": "code",
   "execution_count": 8,
   "metadata": {
    "collapsed": false
   },
   "outputs": [
    {
     "name": "stdout",
     "output_type": "stream",
     "text": [
      "                plop                \n",
      "            plopplopplop            \n",
      "        plopplopplopplopplop        \n",
      "    plopplopplopplopplopplopplop    \n",
      "plopplopplopplopplopplopplopplopplop\n",
      "    plopplopplopplopplopplopplop    \n",
      "        plopplopplopplopplop        \n",
      "            plopplopplop            \n",
      "                plop                \n"
     ]
    }
   ],
   "source": [
    "def afficherLosangeBis(h,c1,c2):\n",
    "    \"\"\"\n",
    "    :entree h: int\n",
    "    :entree c1, c2: string\n",
    "    :sortie: aucune:\n",
    "    :pré-cond: h est impair. Si on veut un affichage joli, il faut que\n",
    "               len(c1)==len(c2)\n",
    "    \"\"\"\n",
    "    for i in range (h):\n",
    "        j=i-h//2\n",
    "        if (j<0):\n",
    "            j=-j\n",
    "        print(j*c2+(h-2*j)*c1+j*c2)\n",
    "        \n",
    "afficherLosangeBis(9,'plop','    ')"
   ]
  },
  {
   "cell_type": "markdown",
   "metadata": {
    "collapsed": true
   },
   "source": [
    "**Question 5.** Afficher une croix (forme de x). "
   ]
  },
  {
   "cell_type": "code",
   "execution_count": 9,
   "metadata": {
    "collapsed": false
   },
   "outputs": [
    {
     "name": "stdout",
     "output_type": "stream",
     "text": [
      "*   *\n",
      " * *\n",
      "  *\n",
      " * *\n",
      "*   *\n"
     ]
    }
   ],
   "source": [
    "def croix(h):\n",
    "    \"\"\"\n",
    "    :entree h: int\n",
    "    :pre-cond: h impair\n",
    "    :sortie: aucune\n",
    "    :post-cond: affiche une croix comme un X à l'écran\n",
    "    \"\"\"\n",
    "    a=h//2\n",
    "    eavant=0\n",
    "    eapres=h-2\n",
    "    while a>0:\n",
    "        print(eavant*\" \"+\"*\"+eapres*\" \"+\"*\")\n",
    "        a=a-1\n",
    "        eavant=eavant+1\n",
    "        eapres=eapres-2\n",
    "    print(eavant*\" \"+\"*\")\n",
    "    a=h//2\n",
    "    eavant=a-1\n",
    "    eapres=1\n",
    "    while a>0:\n",
    "        print(eavant*\" \"+\"*\"+eapres*\" \"+\"*\")\n",
    "        a=a-1\n",
    "        eavant=eavant-1\n",
    "        eapres=eapres+2\n",
    "croix(5)\n",
    "\n",
    "    \n",
    " "
   ]
  }
 ],
 "metadata": {
  "kernelspec": {
   "display_name": "Python 3",
   "language": "python",
   "name": "python3"
  },
  "language_info": {
   "codemirror_mode": {
    "name": "ipython",
    "version": 3
   },
   "file_extension": ".py",
   "mimetype": "text/x-python",
   "name": "python",
   "nbconvert_exporter": "python",
   "pygments_lexer": "ipython3",
   "version": "3.5.2"
  }
 },
 "nbformat": 4,
 "nbformat_minor": 1
}
